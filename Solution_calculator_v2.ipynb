{
 "cells": [
  {
   "cell_type": "code",
   "execution_count": 13,
   "metadata": {},
   "outputs": [
    {
     "data": {
      "text/html": [
       "<style>.container { width:100% !important; }</style>"
      ],
      "text/plain": [
       "<IPython.core.display.HTML object>"
      ]
     },
     "metadata": {},
     "output_type": "display_data"
    },
    {
     "data": {
      "application/vnd.jupyter.widget-view+json": {
       "model_id": "534c3f29e4ed4d5984cbd625a25514a4",
       "version_major": 2,
       "version_minor": 0
      },
      "text/plain": [
       "GridspecLayout(children=(FloatText(value=100.0, description='Final Volume', layout=Layout(grid_area='widget001…"
      ]
     },
     "metadata": {},
     "output_type": "display_data"
    },
    {
     "name": "stdout",
     "output_type": "stream",
     "text": [
      "-----------------\n",
      "NaCl \t 10.0 \t 100.0 \t 10.0\n",
      "NaBr \t 2.0 \t 10.0 \t 20.0\n",
      "XXXX \t 0.0 \t 0.0 \t 0.0\n",
      "XXXX \t 0.0 \t 0.0 \t 0.0\n",
      "XXXX \t 0.0 \t 0.0 \t 0.0\n",
      "XXXX \t 0.0 \t 0.0 \t 0.0\n",
      "XXXX \t 0.0 \t 0.0 \t 0.0\n",
      "XXXX \t 0.0 \t 0.0 \t 0.0\n",
      "XXXX \t 0.0 \t 0.0 \t 0.0\n"
     ]
    }
   ],
   "source": [
    "from IPython.core.display import display, HTML\n",
    "display(HTML(\"<style>.container { width:100% !important; }</style>\"))\n",
    "import  ipywidgets as widgets\n",
    "from ipywidgets import GridspecLayout, Button, BoundedIntText, Valid, Layout, Dropdown,FloatText,Text\n",
    "\n",
    "def create_expanded_button(description, button_style):\n",
    "    return Button(description=description, button_style=button_style, layout=Layout(height='auto', width='auto'))\n",
    " \n",
    "rows = 12\n",
    "columns = 5\n",
    "gs = GridspecLayout(rows, columns)\n",
    "    \n",
    "def on_fv_change(change):\n",
    "    for i in range(2, rows-2):\n",
    "        if gs[i,2].value!=0:\n",
    "            gs[i, 3].value = gs[i,1].value*gs[0,0].value/(gs[i,2].value)\n",
    "        else:\n",
    "            gs[i,3].value=0\n",
    "\n",
    "    s=0\n",
    "    for i in range(2,rows-1):\n",
    "        s+=gs[i,3].value\n",
    "    gs[rows-1,3].value=gs[0,0].value-s\n",
    "    print(\"-----------------\")\n",
    "    for i in range(2, rows-1):\n",
    "        print(gs[i, 0].value,\"\\t\",gs[i, 1].value,\"\\t\",gs[i,2].value,\"\\t\",gs[i,3].value)\n",
    "    \n",
    "\n",
    "def on_s_change(change):\n",
    "    for i in range(2, rows-2):\n",
    "        if gs[i,2].value!=0:\n",
    "            gs[i, 3].value = gs[i,1].value*gs[i,0].value/(gs[i,2].value)\n",
    "        else:\n",
    "            gs[i,3].value=0\n",
    "\n",
    "gs[0,0] = FloatText(description=\"Final Volume\",value=100)\n",
    "            \n",
    "gs[1, 0] = create_expanded_button(str(\"Name\"), \"info\")\n",
    "gs[1, 1] = create_expanded_button(str(\"Final Conc\"), \"info\")\n",
    "gs[1, 2] = create_expanded_button(str(\"Initial Conc\"), \"info\")\n",
    "gs[1, 3] = create_expanded_button(str(\"Initial Volume\"), \"info\")\n",
    "\n",
    "\n",
    "\n",
    "for i in range(2, rows-1):\n",
    "    gs[i,0] = Text(value=\"XXXX\")\n",
    "    gs[i, 1] = FloatText(value=0)\n",
    "    gs[i, 2] = FloatText(value=0)\n",
    "    gs[i, 3] = FloatText(value=0)\n",
    "\n",
    "gs[rows-1,0]=widgets.Button(description=\"Run!\")\n",
    "gs[rows-1, 0].on_click(on_fv_change)\n",
    "\n",
    "gs[rows-1,3]=FloatText(description=\"Final Water\",value=gs[0,0].value)\n",
    "gs[rows-1,3].style.button_color = 'lightgreen'\n",
    "\n",
    "\n",
    "gs"
   ]
  },
  {
   "cell_type": "code",
   "execution_count": null,
   "metadata": {},
   "outputs": [],
   "source": []
  }
 ],
 "metadata": {
  "kernelspec": {
   "display_name": "Python 3",
   "language": "python",
   "name": "python3"
  },
  "language_info": {
   "codemirror_mode": {
    "name": "ipython",
    "version": 3
   },
   "file_extension": ".py",
   "mimetype": "text/x-python",
   "name": "python",
   "nbconvert_exporter": "python",
   "pygments_lexer": "ipython3",
   "version": "3.7.4"
  }
 },
 "nbformat": 4,
 "nbformat_minor": 2
}
