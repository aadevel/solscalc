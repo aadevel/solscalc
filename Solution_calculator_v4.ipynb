{
 "cells": [
  {
   "cell_type": "code",
   "execution_count": 6,
   "metadata": {
    "scrolled": false
   },
   "outputs": [
    {
     "data": {
      "text/html": [
       "<style>.container { width:100% !important; }</style>"
      ],
      "text/plain": [
       "<IPython.core.display.HTML object>"
      ]
     },
     "metadata": {},
     "output_type": "display_data"
    },
    {
     "data": {
      "application/vnd.jupyter.widget-view+json": {
       "model_id": "7dcd634c7c1841a18509f15be269a6f2",
       "version_major": 2,
       "version_minor": 0
      },
      "text/plain": [
       "GridspecLayout(children=(FloatText(value=100.0, description='Final Volume', layout=Layout(grid_area='widget001…"
      ]
     },
     "metadata": {},
     "output_type": "display_data"
    }
   ],
   "source": [
    "from IPython.core.display import display, HTML\n",
    "display(HTML(\"<style>.container { width:100% !important; }</style>\"))\n",
    "import  ipywidgets as widgets\n",
    "from ipywidgets import GridspecLayout, Button, BoundedIntText, Valid, Layout, Dropdown,FloatText,Text,Label,HTML,Output\n",
    "# aalu for momo, 4/5/2021\n",
    "\n",
    "rows = 12\n",
    "columns = 5\n",
    "gs = GridspecLayout(rows, columns)\n",
    "out = Output()\n",
    "\n",
    "\n",
    "def create_expanded_button(description, button_style):\n",
    "    return Button(description=description, button_style=button_style, layout=Layout(height='auto', width='auto'))\n",
    "\n",
    "def display_colored_text(color, text):\n",
    "    colored_text = f\"\\033[{color}{text}\\033[00m\"\n",
    "    return colored_text\n",
    "    \n",
    "def on_fv_change(change):\n",
    "    for i in range(2, rows-2):\n",
    "        if gs[i,1].value!=0:\n",
    "            gs[i, 3].value = round(gs[i,2].value*gs[0,0].value/(gs[i,1].value),3)\n",
    "        else: \n",
    "            gs[i,3].value=0\n",
    "\n",
    "    s=0\n",
    "    for i in range(2,rows-1):\n",
    "        s+=float(gs[i,3].value)\n",
    "    remwater=round((gs[0,0].value-s),3)\n",
    "    w=' Water to add: ' +str(remwater)\n",
    "    gs[rows-1,3].value= f\"<b><font color='red'>{w}</b>\"\n",
    "    #print(\"-----------------\")\n",
    "    #print(\"Name\",\"\\t\",\"Final Conc\",\"\\t\",\"Init Conc\",\"\\t\",\"Init Vol\")\n",
    "    with out:\n",
    "    \n",
    "        print(\"\\n\")\n",
    "        print(f\"{'Name' : <20}{'Init Conc' : ^20}{'Final Conc' : ^20}{'Init Vol' : >20}\")\n",
    "\n",
    "        for i in range(2, rows-1):\n",
    "            if gs[i,3].value>0:\n",
    "                #print(gs[i, 0].value,\"\\t\",gs[i, 1].value,\"\\t\",gs[i,2].value,\"\\t\",gs[i,3].value)\n",
    "                print(f\"{gs[i, 0].value : <20}{gs[i, 1].value : ^20}{gs[i,2].value : ^20}{display_colored_text('1;31m',gs[i,3].value) : >30}\")\n",
    "                #print(f\"{gs[i, 0].value : <20}{gs[i, 1].value : ^20}{gs[i,2].value : ^20}{'\\x1b[31m\\'gs[i,3].value\\'\\x1b[0m' : >20}\")\n",
    "\n",
    "                #print(\"\\x1b[31m\\\"red\\\"\\x1b[0m\")\n",
    "\n",
    "        print(\"\\n\")\n",
    "        print(f\"{'- - - - - - - - - - - - - - - - -  - - - - - - - - - - - - - - - - - - -> Final Volume : '+str(gs[0,0].value) : >20}\")          \n",
    "        print(f\"{'- - - - - - - - - - - - - - - - -  - - - - - - - - - - - - - - - - - - -> Total Water  :  '+display_colored_text('1;31m',str(remwater)) : >20}\")\n",
    "        print(\"\\n\")\n",
    "        print(\"==============================================================================================\")\n",
    "\n",
    "          \n",
    "gs[0,0] = FloatText(description=\"Final Volume\",value=100)\n",
    "            \n",
    "gs[1, 0] = create_expanded_button(str(\"Name\"), \"info\")\n",
    "gs[1, 1] = create_expanded_button(str(\"Initial Conc\"), \"info\")\n",
    "gs[1, 2] = create_expanded_button(str(\"Final Conc\"), \"info\")\n",
    "gs[1, 3] = create_expanded_button(str(\"Initial Volume\"), \"info\")\n",
    "\n",
    "\n",
    "\n",
    "for i in range(2, rows-1):\n",
    "    gs[i,0] = Text(value=\"Reagent\"+str(i-1))\n",
    "    gs[i, 1] = FloatText(value=0)\n",
    "    gs[i, 2] = FloatText(value=0)\n",
    "    gs[i, 3] = FloatText(value=0,disabled=True)\n",
    "\n",
    "gs[rows-1,0]=widgets.Button(description=\"Run!\")\n",
    "gs[rows-1, 0].on_click(on_fv_change)\n",
    "          \n",
    "wtadd=' Water to add: ' +str(gs[0,0].value)\n",
    "\n",
    "#gs[rows-1,3]=Label(value=r'\\(\\color{red} { Water to add ' +str(gs[0,0].value)+ '}\\)')\n",
    "gs[rows-1,3]=HTML(value = f\"<b><font color='red'>{wtadd}</b>\")\n",
    "\n",
    "          \n",
    "gs[rows-1,3].style.button_color = 'lightgreen'\n",
    "\n",
    "\n",
    "          \n",
    "gs"
   ]
  },
  {
   "cell_type": "code",
   "execution_count": 8,
   "metadata": {},
   "outputs": [
    {
     "data": {
      "application/vnd.jupyter.widget-view+json": {
       "model_id": "0c53a7b2d3a94616b764491b3a8bf3ad",
       "version_major": 2,
       "version_minor": 0
      },
      "text/plain": [
       "Output(outputs=({'output_type': 'stream', 'text': '\\n\\nName                     Init Conc           Final Conc…"
      ]
     },
     "metadata": {},
     "output_type": "display_data"
    }
   ],
   "source": [
    "out"
   ]
  },
  {
   "cell_type": "code",
   "execution_count": null,
   "metadata": {},
   "outputs": [],
   "source": []
  }
 ],
 "metadata": {
  "kernelspec": {
   "display_name": "Python 3",
   "language": "python",
   "name": "python3"
  },
  "language_info": {
   "codemirror_mode": {
    "name": "ipython",
    "version": 3
   },
   "file_extension": ".py",
   "mimetype": "text/x-python",
   "name": "python",
   "nbconvert_exporter": "python",
   "pygments_lexer": "ipython3",
   "version": "3.7.4"
  }
 },
 "nbformat": 4,
 "nbformat_minor": 2
}
